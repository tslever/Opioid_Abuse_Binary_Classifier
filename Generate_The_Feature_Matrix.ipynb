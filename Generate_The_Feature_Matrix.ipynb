{
 "cells": [
  {
   "cell_type": "code",
   "execution_count": null,
   "metadata": {},
   "outputs": [],
   "source": [
    "from opioidabusepredictor import queries"
   ]
  },
  {
   "cell_type": "code",
   "execution_count": null,
   "metadata": {
    "code_folding": []
   },
   "outputs": [],
   "source": [
    "query_that_results_in_feature_matrix = \"\"\"\n",
    "SELECT\n",
    "    person_id,\n",
    "    table_of_visit_occurrences_for_cohort.visit_occurrence_id,\n",
    "    table_of_visit_occurrences_for_cohort.visit_start_date,\n",
    "    has_Anxiety,\n",
    "    has_Bipolar_disorder,\n",
    "    has_Depressive_disorder,\n",
    "    has_Hypertensive_disorder,\n",
    "    has_Opioid_abuse,\n",
    "    has_Opioid_dependence,\n",
    "    has_Pain,\n",
    "    has_Rhinitis,\n",
    "    has_Non_Opioid_Substance_abuse,\n",
    "    is_exposed_to_ibuprofen,\n",
    "    is_exposed_to_buprenorphine,\n",
    "    is_exposed_to_nelaxone,\n",
    "    is_exposed_to_fentanyl,\n",
    "    is_exposed_to_morphine,\n",
    "    is_exposed_to_oxycodone,\n",
    "    is_exposed_to_hydromorphone,\n",
    "    is_exposed_to_aspirin,\n",
    "    is_exposed_to_codeine,\n",
    "    is_exposed_to_tramadol,\n",
    "    is_exposed_to_nalbuphine,\n",
    "    is_exposed_to_meperidine,\n",
    "    is_exposed_to_naltrexone,\n",
    "    is_exposed_to_acetaminophen\n",
    "FROM (\"\"\" + queries.query_that_results_in_table_of_visit_occurrences_for_cohort + \"\"\") table_of_visit_occurrences_for_cohort\n",
    "LEFT JOIN (\"\"\" + queries.query_that_results_in_conditions_feature_matrix + \"\"\") conditions_feature_matrix\n",
    "ON table_of_visit_occurrences_for_cohort.visit_occurrence_id = conditions_feature_matrix.visit_occurrence_id\n",
    "LEFT JOIN (\"\"\" + queries.query_that_results_in_medications_feature_matrix + \"\"\") medications_feature_matrix\n",
    "ON table_of_visit_occurrences_for_cohort.visit_occurrence_id = medications_feature_matrix.visit_occurrence_id\n",
    "\"\"\"\n",
    "data_frame = queries.get_data_frame(query_that_results_in_feature_matrix)\n",
    "data_frame"
   ]
  },
  {
   "cell_type": "markdown",
   "metadata": {},
   "source": [
    "# TODO:\n",
    "\n",
    "1.  Change NA to 0.\n",
    "2.  In `queries.py`, change exclude Opioid abuse from Non-Opioid Substance abuse\n",
    "3.  Resolve discrepancies between numbers of rows\n",
    "4.  Set seed of pseudorandom number generator so that the 3,790 patients chosen \"at random\" are the same for every generation of feature matrix.\n",
    "5.  Impute 1's for chronic conditions\n",
    "6.  Impute \"tails\" for 1's to compensate for sparseness of 1's\n",
    "7.  Ensure that each patient has a visit with a prescription of opioids."
   ]
  },
  {
   "cell_type": "code",
   "execution_count": null,
   "metadata": {},
   "outputs": [],
   "source": [
    "print(len(conditions_matrix_of_ungrouped_indicators))"
   ]
  },
  {
   "cell_type": "code",
   "execution_count": null,
   "metadata": {},
   "outputs": [],
   "source": [
    "conditions_matrix_of_ungrouped_indicators_with_dups_dropped = conditions_matrix_of_ungrouped_indicators.drop_duplicates(subset = [\"visit_occurrence_id\"])\n",
    "print(len(conditions_matrix_of_ungrouped_indicators_with_dups_dropped))"
   ]
  },
  {
   "cell_type": "code",
   "execution_count": null,
   "metadata": {},
   "outputs": [],
   "source": [
    "print(len(conditions_matrix))\n",
    "conditions_matrix_with_dups_dropped = conditions_matrix.drop_duplicates(subset = [\"visit_occurrence_id\"])\n",
    "print(len(conditions_matrix_with_dups_dropped))"
   ]
  },
  {
   "cell_type": "code",
   "execution_count": null,
   "metadata": {},
   "outputs": [],
   "source": []
  }
 ],
 "metadata": {
  "kernelspec": {
   "display_name": "Python 3",
   "language": "python",
   "name": "python3"
  },
  "language_info": {
   "codemirror_mode": {
    "name": "ipython",
    "version": 3
   },
   "file_extension": ".py",
   "mimetype": "text/x-python",
   "name": "python",
   "nbconvert_exporter": "python",
   "pygments_lexer": "ipython3",
   "version": "3.7.12"
  },
  "toc": {
   "base_numbering": 1,
   "nav_menu": {},
   "number_sections": true,
   "sideBar": true,
   "skip_h1_title": false,
   "title_cell": "Table of Contents",
   "title_sidebar": "Contents",
   "toc_cell": false,
   "toc_position": {},
   "toc_section_display": true,
   "toc_window_display": false
  }
 },
 "nbformat": 4,
 "nbformat_minor": 2
}
