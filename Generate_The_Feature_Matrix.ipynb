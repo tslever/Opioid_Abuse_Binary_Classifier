{
 "cells": [
  {
   "cell_type": "code",
   "execution_count": null,
   "metadata": {},
   "outputs": [],
   "source": [
    "from opioidabusepredictor import queries"
   ]
  },
  {
   "cell_type": "code",
   "execution_count": null,
   "metadata": {},
   "outputs": [],
   "source": [
    "query_that_results_in_feature_matrix = \"\"\"\n",
    "SELECT\n",
    "    person_id,\n",
    "    table_of_visit_occurrences_for_cohort.visit_occurrence_id,\n",
    "    has_Anxiety,\n",
    "    is_exposed_to_ibuprofen,\n",
    "    is_exposed_to_buprenorphine,\n",
    "    is_exposed_to_nelaxone,\n",
    "    is_exposed_to_fentanyl,\n",
    "    is_exposed_to_morphine,\n",
    "    is_exposed_to_oxycodone,\n",
    "    is_exposed_to_hydromorphone,\n",
    "    is_exposed_to_aspirin,\n",
    "    is_exposed_to_codeine,\n",
    "    is_exposed_to_tramadol,\n",
    "    is_exposed_to_nalbuphine,\n",
    "    is_exposed_to_meperidine,\n",
    "    is_exposed_to_naltrexone,\n",
    "    is_exposed_to_acetaminophen\n",
    "FROM (\"\"\" + queries.query_that_results_in_table_of_visit_occurrences_for_cohort + \"\"\") table_of_visit_occurrences_for_cohort\n",
    "LEFT JOIN (\"\"\" + queries.query_that_results_in_conditions_feature_matrix + \"\"\") conditions_feature_matrix\n",
    "ON table_of_visit_occurrences_for_cohort.visit_occurrence_id = conditions_feature_matrix.visit_occurrence_id\n",
    "LEFT JOIN (\"\"\" + queries.query_that_results_in_medications_feature_matrix + \"\"\") medications_feature_matrix\n",
    "ON table_of_visit_occurrences_for_cohort.visit_occurrence_id = medications_feature_matrix.visit_occurrence_id\n",
    "\"\"\"\n",
    "data_frame = queries.get_data_frame(query_that_results_in_feature_matrix)\n",
    "data_frame"
   ]
  }
 ],
 "metadata": {
  "kernelspec": {
   "display_name": "Python 3",
   "language": "python",
   "name": "python3"
  },
  "language_info": {
   "codemirror_mode": {
    "name": "ipython",
    "version": 3
   },
   "file_extension": ".py",
   "mimetype": "text/x-python",
   "name": "python",
   "nbconvert_exporter": "python",
   "pygments_lexer": "ipython3",
   "version": "3.7.12"
  },
  "toc": {
   "base_numbering": 1,
   "nav_menu": {},
   "number_sections": true,
   "sideBar": true,
   "skip_h1_title": false,
   "title_cell": "Table of Contents",
   "title_sidebar": "Contents",
   "toc_cell": false,
   "toc_position": {},
   "toc_section_display": true,
   "toc_window_display": false
  }
 },
 "nbformat": 4,
 "nbformat_minor": 2
}
