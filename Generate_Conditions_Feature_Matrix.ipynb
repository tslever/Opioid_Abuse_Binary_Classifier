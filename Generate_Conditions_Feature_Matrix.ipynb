{
 "cells": [
  {
   "cell_type": "code",
   "execution_count": null,
   "metadata": {},
   "outputs": [],
   "source": [
    "from opioidabusepredictor import queries"
   ]
  },
  {
   "cell_type": "code",
   "execution_count": null,
   "metadata": {},
   "outputs": [],
   "source": [
    "data_frame = queries.get_data_frame(queries.query_that_results_in_table_of_half_opioid_abusers_conditions_and_start_datetimes)\n",
    "data_frame"
   ]
  },
  {
   "cell_type": "code",
   "execution_count": null,
   "metadata": {},
   "outputs": [],
   "source": [
    "query = \"\"\"\n",
    "SELECT\n",
    "    person_id,\n",
    "    code,\n",
    "    standard_concept_name,\n",
    "    condition_start_datetime,\n",
    "    \n",
    "    CASE WHEN cast(code as INT64) IN (48694002, 35429005, 247808006, 431432003, 225635005, 300895004, 197480006, 67195008, 192038005, 192041001, 192044009, 22621000119103, 50026000, 34938008, 762331007, 51493001, 1686006, 52910006, 109006, 37868008, 53467004, 11806006, 69479009, 426174008, 111487009, 428687006, 21897009, 231504006, 191736004, 17496003, 50026000, 34938008, 762331007, 51493001, 1686006, 371631005, 35607004, 8185002, 5509004, 61212007, 56576003, 72861004, 65064003, 82494000, 43150009, 386810004, 70691001, 191722009, 61569007, 82415003, 35607004, 8185002, 5509004, 61212007, 54587008, 25501002, 62351001, 191725006, 58535001, 47505003, 16265301000119106, 16264901000119109, 16264821000119108, 126943008, 198288003, 70997004, 61387006, 79823003, 279622009)\n",
    "    THEN 1\n",
    "    ELSE 0 END AS has_Anxiety\n",
    "    \n",
    "    \n",
    "    \n",
    "FROM (\"\"\" + queries.query_that_results_in_table_of_half_opioid_abusers_conditions_and_start_datetimes + \"\"\")\n",
    "\"\"\"\n",
    "data_frame = queries.get_data_frame(query)\n",
    "data_frame"
   ]
  },
  {
   "cell_type": "code",
   "execution_count": null,
   "metadata": {},
   "outputs": [],
   "source": [
    "data_frame[data_frame[\"has_Anxiety\"] == 1]"
   ]
  }
 ],
 "metadata": {
  "kernelspec": {
   "display_name": "Python 3",
   "language": "python",
   "name": "python3"
  },
  "language_info": {
   "codemirror_mode": {
    "name": "ipython",
    "version": 3
   },
   "file_extension": ".py",
   "mimetype": "text/x-python",
   "name": "python",
   "nbconvert_exporter": "python",
   "pygments_lexer": "ipython3",
   "version": "3.7.12"
  },
  "toc": {
   "base_numbering": 1,
   "nav_menu": {},
   "number_sections": true,
   "sideBar": true,
   "skip_h1_title": false,
   "title_cell": "Table of Contents",
   "title_sidebar": "Contents",
   "toc_cell": false,
   "toc_position": {},
   "toc_section_display": true,
   "toc_window_display": false
  }
 },
 "nbformat": 4,
 "nbformat_minor": 2
}
