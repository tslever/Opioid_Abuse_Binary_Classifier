{
 "cells": [
  {
   "cell_type": "code",
   "execution_count": null,
   "metadata": {},
   "outputs": [],
   "source": [
    "!pip list"
   ]
  },
  {
   "cell_type": "code",
   "execution_count": null,
   "metadata": {},
   "outputs": [],
   "source": [
    "from opioidabusepredictor import queries"
   ]
  },
  {
   "cell_type": "code",
   "execution_count": null,
   "metadata": {},
   "outputs": [],
   "source": [
    "query_that_results_in_table_of_visit_occurrences_for_cohort = \"\"\"\n",
    "    SELECT COUNT(*)\n",
    "    FROM `\"\"\" + os.environ[\"WORKSPACE_CDR\"] + \"\"\".visit_occurrence` visit_occurrence \n",
    "    INNER JOIN (\"\"\" + query_that_results_in_distinct_IDs_of_patients_with_at_least_one_prescription_of_opioids_and_without_cancer + \"\"\") cohort\n",
    "    ON visit_occurrence.person_id = cohort.person_id\n",
    "\"\"\""
   ]
  },
  {
   "cell_type": "code",
   "execution_count": null,
   "metadata": {},
   "outputs": [],
   "source": [
    "\n",
    "\n",
    "query_that_results_in_feature_matrix = \"\"\"\n",
    "SELECT\n",
    "    conditions_feature_matrix.person_id as person_id,\n",
    "    conditions_feature_matrix.visit_occurrence_id as visit_id,\n",
    "    has_Anxiety,\n",
    "    is_exposed_to_ibuprofen\n",
    "FROM (\"\"\" + queries.query_that_results_in_conditions_feature_matrix + \"\"\") conditions_feature_matrix\n",
    "JOIN (\"\"\" + queries.query_that_results_in_medications_feature_matrix + \"\"\") medications_feature_matrix\n",
    "ON conditions_feature_matrix.person_id = medications_feature_matrix.person_id AND conditions_feature_matrix.visit_occurrence_id = medications_feature_matrix.visit_occurrence_id\n",
    "\"\"\"\n",
    "data_frame = queries.get_data_frame(query_that_results_in_feature_matrix)\n",
    "data_frame"
   ]
  },
  {
   "cell_type": "code",
   "execution_count": null,
   "metadata": {},
   "outputs": [],
   "source": [
    "from opioidabusepredictor import queries"
   ]
  },
  {
   "cell_type": "code",
   "execution_count": null,
   "metadata": {},
   "outputs": [],
   "source": [
    "\n",
    "\n",
    "query_that_results_in_complete_feature_matrix = \"\"\"\n",
    "SELECT *\n",
    "    FROM (\"\"\" + queries.query_that_results_in_table_of_visit_occurrences_for_cohort + \"\"\") table_of_visit_occurrences_for_cohort\n",
    "    LEFT JOIN (\n",
    "        SELECT\n",
    "            --person_id,\n",
    "            visit_occurrence_id--,\n",
    "            --MAX(has_Anxiety) as has_Anxiety\n",
    "        FROM (\"\"\" + queries.query_that_results_in_table_of_person_IDs_visit_occurrence_ids_and_indicators_of_whether_patient_has_Anxiety + \"\"\")\n",
    "        --GROUP BY person_id, visit_occurrence_id\n",
    "        GROUP by person_id, visit_occurrence_id\n",
    "        --ORDER BY person_id, visit_occurrence_id\n",
    "        ORDER BY visit_occurrence_id\n",
    "    ) conditions_feature_matrix\n",
    "    ON table_of_visit_occurrences_for_cohort.visit_occurrence_id = conditions_feature_matrix.visit_occurrence_id\n",
    "\"\"\"\n",
    "\n",
    "\n",
    "\n",
    "queries.get_data_frame(query_that_results_in_complete_feature_matrix)\n",
    "\n",
    "# 13100235\n"
   ]
  },
  {
   "cell_type": "code",
   "execution_count": null,
   "metadata": {},
   "outputs": [],
   "source": [
    "\n",
    "\n",
    "query_that_results_in_complete_feature_matrix = \"\"\"\n",
    "SELECT *\n",
    "FROM (\"\"\" + queries.query_that_results_in_table_of_visit_occurrences_for_cohort + \"\"\") table_of_visit_occurrences_for_cohort\n",
    "LEFT JOIN (\"\"\" + queries.query_that_results_in_conditions_feature_matrix + \"\"\") conditions_feature_matrix\n",
    "ON table_of_visit_occurrences_for_cohort.visit_occurrence_id = conditions_feature_matrix.visit_occurrence_id\n",
    "WHERE has_Anxiety = 0 OR has_Anxiety = 1\n",
    "LIMIT 20\n",
    "\"\"\"\n",
    "\n",
    "\n",
    "\n",
    "queries.get_data_frame(query_that_results_in_complete_feature_matrix)\n",
    "\n",
    "# 13100235\n"
   ]
  },
  {
   "cell_type": "code",
   "execution_count": null,
   "metadata": {},
   "outputs": [],
   "source": [
    "query = \"\"\"\n",
    "        SELECT\n",
    "            --person_id,\n",
    "            visit_occurrence_id--,\n",
    "            --MAX(has_Anxiety) as has_Anxiety\n",
    "        FROM (\"\"\" + queries.query_that_results_in_table_of_person_IDs_visit_occurrence_ids_and_indicators_of_whether_patient_has_Anxiety + \"\"\")\n",
    "\"\"\"\n",
    "queries.get_data_frame(query)"
   ]
  },
  {
   "cell_type": "code",
   "execution_count": null,
   "metadata": {},
   "outputs": [],
   "source": [
    "distinct_person_id_of_our_cohort = queries.get_data_frame(queries.query_that_results_in_distinct_IDs_of_patients_with_at_least_one_prescription_of_opioids_and_without_cancer)"
   ]
  },
  {
   "cell_type": "code",
   "execution_count": null,
   "metadata": {},
   "outputs": [],
   "source": [
    "query = \"\"\"\n",
    "SELECT * FROM (\"\"\" + queries.query_that_results_in_medications_feature_matrix + \"\"\")\n",
    "WHERE visit_occurrence_id IS NOT NULL\n",
    "\"\"\"\n",
    "\n",
    "queries.get_data_frame(query)\n",
    "\n",
    "# 2748170, 2785940\n",
    "    "
   ]
  },
  {
   "cell_type": "code",
   "execution_count": null,
   "metadata": {},
   "outputs": [],
   "source": [
    "from opioidabusepredictor import queries\n",
    "\n",
    "query_that_results_in_feature_matrix = \"\"\"\n",
    "SELECT\n",
    "    conditions_feature_matrix.person_id as person_id,\n",
    "    conditions_feature_matrix.visit_occurrence_id as v1,\n",
    "    medications_feature_matrix.visit_occurrence_id as v2,\n",
    "    has_Anxiety,\n",
    "    is_exposed_to_ibuprofen\n",
    "FROM (\"\"\" + queries.query_that_results_in_conditions_feature_matrix + \"\"\") conditions_feature_matrix\n",
    "FULL OUTER JOIN (\"\"\" + queries.query_that_results_in_medications_feature_matrix + \"\"\") medications_feature_matrix\n",
    "ON conditions_feature_matrix.person_id = medications_feature_matrix.person_id AND conditions_feature_matrix.visit_occurrence_id = medications_feature_matrix.visit_occurrence_id\n",
    "\"\"\"\n",
    "data_frame = queries.get_data_frame(query_that_results_in_feature_matrix)\n",
    "data_frame"
   ]
  },
  {
   "cell_type": "code",
   "execution_count": null,
   "metadata": {},
   "outputs": [],
   "source": [
    "data_frame.dropna()"
   ]
  },
  {
   "cell_type": "code",
   "execution_count": null,
   "metadata": {},
   "outputs": [],
   "source": []
  }
 ],
 "metadata": {
  "kernelspec": {
   "display_name": "Python 3",
   "language": "python",
   "name": "python3"
  },
  "language_info": {
   "codemirror_mode": {
    "name": "ipython",
    "version": 3
   },
   "file_extension": ".py",
   "mimetype": "text/x-python",
   "name": "python",
   "nbconvert_exporter": "python",
   "pygments_lexer": "ipython3",
   "version": "3.7.12"
  },
  "toc": {
   "base_numbering": 1,
   "nav_menu": {},
   "number_sections": true,
   "sideBar": true,
   "skip_h1_title": false,
   "title_cell": "Table of Contents",
   "title_sidebar": "Contents",
   "toc_cell": false,
   "toc_position": {},
   "toc_section_display": true,
   "toc_window_display": false
  }
 },
 "nbformat": 4,
 "nbformat_minor": 2
}
